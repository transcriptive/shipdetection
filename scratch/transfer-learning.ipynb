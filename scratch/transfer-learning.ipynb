{
 "cells": [
  {
   "cell_type": "markdown",
   "id": "a5eb96e7-0a7b-48e4-9a44-fe3509f0f1a4",
   "metadata": {},
   "source": [
    "# Transfer learning"
   ]
  },
  {
   "cell_type": "code",
   "execution_count": 3,
   "id": "c1b88f27-7563-4556-9d8d-7623103f2d26",
   "metadata": {},
   "outputs": [],
   "source": [
    "import tensorflow.keras\n",
    "from tensorflow.keras.layers import Dense, Flatten, Conv2D, MaxPool2D, GlobalAveragePooling2D\n",
    "from tensorflow.keras.models import Sequential\n",
    "from tensorflow.keras.applications.xception import Xception"
   ]
  },
  {
   "cell_type": "code",
   "execution_count": 4,
   "id": "6d2c7489-e141-4abb-bc9c-ddc780a9e6f9",
   "metadata": {},
   "outputs": [],
   "source": [
    "conv_base = Xception(include_top=False)"
   ]
  },
  {
   "cell_type": "code",
   "execution_count": 5,
   "id": "038e1377-8167-4923-9df5-640566ef0c30",
   "metadata": {},
   "outputs": [
    {
     "name": "stdout",
     "output_type": "stream",
     "text": [
      "<tensorflow.python.keras.engine.input_layer.InputLayer object at 0x1038892b0>\n",
      "<tensorflow.python.keras.layers.convolutional.Conv2D object at 0x14c82fca0>\n",
      "<tensorflow.python.keras.layers.normalization_v2.BatchNormalization object at 0x14c8687f0>\n",
      "<tensorflow.python.keras.layers.core.Activation object at 0x14c8c56d0>\n",
      "<tensorflow.python.keras.layers.convolutional.Conv2D object at 0x14c90a310>\n",
      "<tensorflow.python.keras.layers.normalization_v2.BatchNormalization object at 0x14c8c5fa0>\n",
      "<tensorflow.python.keras.layers.core.Activation object at 0x14c91b5b0>\n",
      "<tensorflow.python.keras.layers.convolutional.SeparableConv2D object at 0x14c92aa60>\n",
      "<tensorflow.python.keras.layers.normalization_v2.BatchNormalization object at 0x14c92a310>\n",
      "<tensorflow.python.keras.layers.core.Activation object at 0x14c93f100>\n",
      "<tensorflow.python.keras.layers.convolutional.SeparableConv2D object at 0x14c93fa90>\n",
      "<tensorflow.python.keras.layers.normalization_v2.BatchNormalization object at 0x14c93f520>\n",
      "<tensorflow.python.keras.layers.convolutional.Conv2D object at 0x14c910700>\n",
      "<tensorflow.python.keras.layers.pooling.MaxPooling2D object at 0x14c949d30>\n",
      "<tensorflow.python.keras.layers.normalization_v2.BatchNormalization object at 0x14c91b220>\n",
      "<tensorflow.python.keras.layers.merge.Add object at 0x14c943400>\n",
      "<tensorflow.python.keras.layers.core.Activation object at 0x14c91b4f0>\n",
      "<tensorflow.python.keras.layers.convolutional.SeparableConv2D object at 0x14c920b80>\n",
      "<tensorflow.python.keras.layers.normalization_v2.BatchNormalization object at 0x14c8c57c0>\n",
      "<tensorflow.python.keras.layers.core.Activation object at 0x14c959b80>\n",
      "<tensorflow.python.keras.layers.convolutional.SeparableConv2D object at 0x14c9348e0>\n",
      "<tensorflow.python.keras.layers.normalization_v2.BatchNormalization object at 0x14c959190>\n",
      "<tensorflow.python.keras.layers.convolutional.Conv2D object at 0x14c934340>\n",
      "<tensorflow.python.keras.layers.pooling.MaxPooling2D object at 0x14c9633d0>\n",
      "<tensorflow.python.keras.layers.normalization_v2.BatchNormalization object at 0x14c93fd30>\n",
      "<tensorflow.python.keras.layers.merge.Add object at 0x14c963040>\n",
      "<tensorflow.python.keras.layers.core.Activation object at 0x14c96c910>\n",
      "<tensorflow.python.keras.layers.convolutional.SeparableConv2D object at 0x14c960eb0>\n",
      "<tensorflow.python.keras.layers.normalization_v2.BatchNormalization object at 0x14c971ac0>\n",
      "<tensorflow.python.keras.layers.core.Activation object at 0x14c973610>\n",
      "<tensorflow.python.keras.layers.convolutional.SeparableConv2D object at 0x14c9585b0>\n",
      "<tensorflow.python.keras.layers.normalization_v2.BatchNormalization object at 0x14c960d90>\n",
      "<tensorflow.python.keras.layers.convolutional.Conv2D object at 0x14c96c250>\n",
      "<tensorflow.python.keras.layers.pooling.MaxPooling2D object at 0x14c98dc40>\n",
      "<tensorflow.python.keras.layers.normalization_v2.BatchNormalization object at 0x14c9609d0>\n",
      "<tensorflow.python.keras.layers.merge.Add object at 0x14c963580>\n",
      "<tensorflow.python.keras.layers.core.Activation object at 0x14c981790>\n",
      "<tensorflow.python.keras.layers.convolutional.SeparableConv2D object at 0x14c981730>\n",
      "<tensorflow.python.keras.layers.normalization_v2.BatchNormalization object at 0x14c97c6d0>\n",
      "<tensorflow.python.keras.layers.core.Activation object at 0x14c995700>\n",
      "<tensorflow.python.keras.layers.convolutional.SeparableConv2D object at 0x14c98d370>\n",
      "<tensorflow.python.keras.layers.normalization_v2.BatchNormalization object at 0x14c99ee50>\n",
      "<tensorflow.python.keras.layers.core.Activation object at 0x14c9a8100>\n",
      "<tensorflow.python.keras.layers.convolutional.SeparableConv2D object at 0x14c9a4d00>\n",
      "<tensorflow.python.keras.layers.normalization_v2.BatchNormalization object at 0x14c9a4fd0>\n",
      "<tensorflow.python.keras.layers.merge.Add object at 0x14c9a41f0>\n",
      "<tensorflow.python.keras.layers.core.Activation object at 0x14c9817c0>\n",
      "<tensorflow.python.keras.layers.convolutional.SeparableConv2D object at 0x14c9bf6d0>\n",
      "<tensorflow.python.keras.layers.normalization_v2.BatchNormalization object at 0x14c9952b0>\n",
      "<tensorflow.python.keras.layers.core.Activation object at 0x14c9c78e0>\n",
      "<tensorflow.python.keras.layers.convolutional.SeparableConv2D object at 0x14c9c3880>\n",
      "<tensorflow.python.keras.layers.normalization_v2.BatchNormalization object at 0x14c9b2fa0>\n",
      "<tensorflow.python.keras.layers.core.Activation object at 0x14c9d52e0>\n",
      "<tensorflow.python.keras.layers.convolutional.SeparableConv2D object at 0x14c9d5640>\n",
      "<tensorflow.python.keras.layers.normalization_v2.BatchNormalization object at 0x14cb0d790>\n",
      "<tensorflow.python.keras.layers.merge.Add object at 0x14cb01730>\n",
      "<tensorflow.python.keras.layers.core.Activation object at 0x14cb06790>\n",
      "<tensorflow.python.keras.layers.convolutional.SeparableConv2D object at 0x14cb0d8e0>\n",
      "<tensorflow.python.keras.layers.normalization_v2.BatchNormalization object at 0x14c9d0910>\n",
      "<tensorflow.python.keras.layers.core.Activation object at 0x14c9bff70>\n",
      "<tensorflow.python.keras.layers.convolutional.SeparableConv2D object at 0x14c9c37f0>\n",
      "<tensorflow.python.keras.layers.normalization_v2.BatchNormalization object at 0x14c9bfaf0>\n",
      "<tensorflow.python.keras.layers.core.Activation object at 0x14c995670>\n",
      "<tensorflow.python.keras.layers.convolutional.SeparableConv2D object at 0x14c97cb50>\n",
      "<tensorflow.python.keras.layers.normalization_v2.BatchNormalization object at 0x14c9810d0>\n",
      "<tensorflow.python.keras.layers.merge.Add object at 0x14c95cdc0>\n",
      "<tensorflow.python.keras.layers.core.Activation object at 0x14cb17130>\n",
      "<tensorflow.python.keras.layers.convolutional.SeparableConv2D object at 0x14c943040>\n",
      "<tensorflow.python.keras.layers.normalization_v2.BatchNormalization object at 0x14c959850>\n",
      "<tensorflow.python.keras.layers.core.Activation object at 0x14cb1a3d0>\n",
      "<tensorflow.python.keras.layers.convolutional.SeparableConv2D object at 0x14c959910>\n",
      "<tensorflow.python.keras.layers.normalization_v2.BatchNormalization object at 0x14cb1aee0>\n",
      "<tensorflow.python.keras.layers.core.Activation object at 0x14cb1ed90>\n",
      "<tensorflow.python.keras.layers.convolutional.SeparableConv2D object at 0x14cb20f10>\n",
      "<tensorflow.python.keras.layers.normalization_v2.BatchNormalization object at 0x14cb1a490>\n",
      "<tensorflow.python.keras.layers.merge.Add object at 0x14cb27250>\n",
      "<tensorflow.python.keras.layers.core.Activation object at 0x14cb31460>\n",
      "<tensorflow.python.keras.layers.convolutional.SeparableConv2D object at 0x14c99e130>\n",
      "<tensorflow.python.keras.layers.normalization_v2.BatchNormalization object at 0x14cb27a00>\n",
      "<tensorflow.python.keras.layers.core.Activation object at 0x14cb395b0>\n",
      "<tensorflow.python.keras.layers.convolutional.SeparableConv2D object at 0x14cb27490>\n",
      "<tensorflow.python.keras.layers.normalization_v2.BatchNormalization object at 0x14cb398e0>\n",
      "<tensorflow.python.keras.layers.core.Activation object at 0x14cb42fd0>\n",
      "<tensorflow.python.keras.layers.convolutional.SeparableConv2D object at 0x14cb464c0>\n",
      "<tensorflow.python.keras.layers.normalization_v2.BatchNormalization object at 0x14cb423d0>\n",
      "<tensorflow.python.keras.layers.merge.Add object at 0x14cb425e0>\n",
      "<tensorflow.python.keras.layers.core.Activation object at 0x14cb31610>\n",
      "<tensorflow.python.keras.layers.convolutional.SeparableConv2D object at 0x14cb5c580>\n",
      "<tensorflow.python.keras.layers.normalization_v2.BatchNormalization object at 0x14cb31640>\n",
      "<tensorflow.python.keras.layers.core.Activation object at 0x14cb65760>\n",
      "<tensorflow.python.keras.layers.convolutional.SeparableConv2D object at 0x14cb60c10>\n",
      "<tensorflow.python.keras.layers.normalization_v2.BatchNormalization object at 0x14cb60b80>\n",
      "<tensorflow.python.keras.layers.core.Activation object at 0x14cb71160>\n",
      "<tensorflow.python.keras.layers.convolutional.SeparableConv2D object at 0x14cb71760>\n",
      "<tensorflow.python.keras.layers.normalization_v2.BatchNormalization object at 0x14cb845e0>\n",
      "<tensorflow.python.keras.layers.merge.Add object at 0x14cb71700>\n",
      "<tensorflow.python.keras.layers.core.Activation object at 0x14cb71b20>\n",
      "<tensorflow.python.keras.layers.convolutional.SeparableConv2D object at 0x14cb713a0>\n",
      "<tensorflow.python.keras.layers.normalization_v2.BatchNormalization object at 0x14cb465b0>\n",
      "<tensorflow.python.keras.layers.core.Activation object at 0x14c754c10>\n",
      "<tensorflow.python.keras.layers.convolutional.SeparableConv2D object at 0x14bd9e700>\n",
      "<tensorflow.python.keras.layers.normalization_v2.BatchNormalization object at 0x14bd9e6a0>\n",
      "<tensorflow.python.keras.layers.core.Activation object at 0x14a762760>\n",
      "<tensorflow.python.keras.layers.convolutional.SeparableConv2D object at 0x14a762280>\n",
      "<tensorflow.python.keras.layers.normalization_v2.BatchNormalization object at 0x14a762310>\n",
      "<tensorflow.python.keras.layers.merge.Add object at 0x14a74a580>\n",
      "<tensorflow.python.keras.layers.core.Activation object at 0x14990a4f0>\n",
      "<tensorflow.python.keras.layers.convolutional.SeparableConv2D object at 0x14a7622b0>\n",
      "<tensorflow.python.keras.layers.normalization_v2.BatchNormalization object at 0x14c90a580>\n",
      "<tensorflow.python.keras.layers.core.Activation object at 0x103889c70>\n",
      "<tensorflow.python.keras.layers.convolutional.SeparableConv2D object at 0x14c92f6d0>\n",
      "<tensorflow.python.keras.layers.normalization_v2.BatchNormalization object at 0x14cb5cc10>\n",
      "<tensorflow.python.keras.layers.core.Activation object at 0x1038af2e0>\n",
      "<tensorflow.python.keras.layers.convolutional.SeparableConv2D object at 0x14a763a30>\n",
      "<tensorflow.python.keras.layers.normalization_v2.BatchNormalization object at 0x14c99e3a0>\n",
      "<tensorflow.python.keras.layers.merge.Add object at 0x14cb20c10>\n",
      "<tensorflow.python.keras.layers.core.Activation object at 0x14c9713d0>\n",
      "<tensorflow.python.keras.layers.convolutional.SeparableConv2D object at 0x14c9349d0>\n",
      "<tensorflow.python.keras.layers.normalization_v2.BatchNormalization object at 0x14c97e3a0>\n",
      "<tensorflow.python.keras.layers.core.Activation object at 0x14c9d57f0>\n",
      "<tensorflow.python.keras.layers.convolutional.SeparableConv2D object at 0x14c97ed90>\n",
      "<tensorflow.python.keras.layers.normalization_v2.BatchNormalization object at 0x14c9a8fd0>\n",
      "<tensorflow.python.keras.layers.convolutional.Conv2D object at 0x14cb1ea90>\n",
      "<tensorflow.python.keras.layers.pooling.MaxPooling2D object at 0x14cbafcd0>\n",
      "<tensorflow.python.keras.layers.normalization_v2.BatchNormalization object at 0x14cb1a0a0>\n",
      "<tensorflow.python.keras.layers.merge.Add object at 0x14cbab700>\n",
      "<tensorflow.python.keras.layers.convolutional.SeparableConv2D object at 0x14cbb5b80>\n",
      "<tensorflow.python.keras.layers.normalization_v2.BatchNormalization object at 0x14cb8e1c0>\n",
      "<tensorflow.python.keras.layers.core.Activation object at 0x14cbbc280>\n",
      "<tensorflow.python.keras.layers.convolutional.SeparableConv2D object at 0x14cbb5ac0>\n",
      "<tensorflow.python.keras.layers.normalization_v2.BatchNormalization object at 0x14cbc1580>\n",
      "<tensorflow.python.keras.layers.core.Activation object at 0x14c9a8850>\n"
     ]
    }
   ],
   "source": [
    "for layer in conv_base.layers:\n",
    "    print(layer)"
   ]
  },
  {
   "cell_type": "code",
   "execution_count": 6,
   "id": "d20358aa-348c-4a08-8c00-557650639671",
   "metadata": {},
   "outputs": [],
   "source": [
    "from tensorflow.keras.datasets import cifar10"
   ]
  },
  {
   "cell_type": "code",
   "execution_count": 7,
   "id": "aceb47a8-51bd-4e1c-aee4-b58061f418df",
   "metadata": {},
   "outputs": [],
   "source": [
    "(train_im, train_labs), (test_im, test_labs) = cifar10.load_data()"
   ]
  },
  {
   "cell_type": "code",
   "execution_count": 8,
   "id": "6ff2626c-dd31-4556-8378-a53cc91c9079",
   "metadata": {},
   "outputs": [],
   "source": [
    "first_net = conv_base.predict(train_im)"
   ]
  },
  {
   "cell_type": "code",
   "execution_count": 11,
   "id": "6f5b8d09-e510-4b00-a2f5-5654acddc962",
   "metadata": {},
   "outputs": [
    {
     "data": {
      "text/plain": [
       "array([[[[0., 0., 0., ..., 0., 0., 0.]]],\n",
       "\n",
       "\n",
       "       [[[0., 0., 0., ..., 0., 0., 0.]]],\n",
       "\n",
       "\n",
       "       [[[0., 0., 0., ..., 0., 0., 0.]]],\n",
       "\n",
       "\n",
       "       ...,\n",
       "\n",
       "\n",
       "       [[[0., 0., 0., ..., 0., 0., 0.]]],\n",
       "\n",
       "\n",
       "       [[[0., 0., 0., ..., 0., 0., 0.]]],\n",
       "\n",
       "\n",
       "       [[[0., 0., 0., ..., 0., 0., 0.]]]], dtype=float32)"
      ]
     },
     "execution_count": 11,
     "metadata": {},
     "output_type": "execute_result"
    }
   ],
   "source": [
    "first_net"
   ]
  },
  {
   "cell_type": "markdown",
   "id": "24b75f65-ebee-4dde-9424-2dcf89396886",
   "metadata": {},
   "source": [
    "## If you want to train the weights in the transferred model (they're frozen by default)"
   ]
  },
  {
   "cell_type": "code",
   "execution_count": 12,
   "id": "8b684043-ffd1-4f78-8b87-cc6121fc029f",
   "metadata": {},
   "outputs": [
    {
     "data": {
      "text/plain": [
       "True"
      ]
     },
     "execution_count": 12,
     "metadata": {},
     "output_type": "execute_result"
    }
   ],
   "source": [
    "conv_base.trainable"
   ]
  },
  {
   "cell_type": "code",
   "execution_count": 20,
   "id": "160561b0-2c44-41e3-86bd-7054cfbd6b11",
   "metadata": {},
   "outputs": [],
   "source": [
    "model = Sequential()\n",
    "model.add(conv_base)\n",
    "#model.add(Flatten())\n",
    "model.add(Dense(10, activation='softmax'))"
   ]
  },
  {
   "cell_type": "code",
   "execution_count": 17,
   "id": "2f06150c-3064-4053-945a-94ad19360c36",
   "metadata": {},
   "outputs": [
    {
     "data": {
      "text/plain": [
       "'2.4.0'"
      ]
     },
     "execution_count": 17,
     "metadata": {},
     "output_type": "execute_result"
    }
   ],
   "source": [
    "tensorflow.keras.__version__"
   ]
  },
  {
   "cell_type": "code",
   "execution_count": null,
   "id": "dda32cb1-936e-4ee7-96aa-bc08a86e0b9f",
   "metadata": {},
   "outputs": [],
   "source": []
  }
 ],
 "metadata": {
  "kernelspec": {
   "display_name": "Python 3",
   "language": "python",
   "name": "python3"
  },
  "language_info": {
   "codemirror_mode": {
    "name": "ipython",
    "version": 3
   },
   "file_extension": ".py",
   "mimetype": "text/x-python",
   "name": "python",
   "nbconvert_exporter": "python",
   "pygments_lexer": "ipython3",
   "version": "3.8.8"
  }
 },
 "nbformat": 4,
 "nbformat_minor": 5
}
