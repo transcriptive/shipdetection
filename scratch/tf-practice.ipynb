{
 "cells": [
  {
   "cell_type": "markdown",
   "id": "314d1f5e-b5dc-4f59-b774-f56af07984bf",
   "metadata": {},
   "source": [
    "# Image segmentation\n",
    "This notebook adapted from [this tutorial](https://www.tensorflow.org/tutorials/images/segmentation)"
   ]
  },
  {
   "cell_type": "code",
   "execution_count": 3,
   "id": "3d3581eb-9891-4663-8d57-219d53189a0d",
   "metadata": {},
   "outputs": [],
   "source": [
    "import tensorflow as tf\n",
    "from tensorflow_examples.models.pix2pix import pix2pix\n",
    "import tensorflow_datasets as tfds\n",
    "from IPython.display import clear_output\n",
    "import matplotlib.pyplot as plt"
   ]
  },
  {
   "cell_type": "code",
   "execution_count": null,
   "id": "caa27f0e-eecb-4ae0-bfe4-dd33922af852",
   "metadata": {},
   "outputs": [],
   "source": []
  }
 ],
 "metadata": {
  "kernelspec": {
   "display_name": "Python 3",
   "language": "python",
   "name": "python3"
  },
  "language_info": {
   "codemirror_mode": {
    "name": "ipython",
    "version": 3
   },
   "file_extension": ".py",
   "mimetype": "text/x-python",
   "name": "python",
   "nbconvert_exporter": "python",
   "pygments_lexer": "ipython3",
   "version": "3.8.8"
  }
 },
 "nbformat": 4,
 "nbformat_minor": 5
}
