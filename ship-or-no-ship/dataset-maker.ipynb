{
 "cells": [
  {
   "cell_type": "markdown",
   "id": "1bb535fd-0e65-40cd-be7d-5e53c029faaa",
   "metadata": {},
   "source": [
    "# Ship or No Ship dataset maker"
   ]
  },
  {
   "cell_type": "code",
   "execution_count": 20,
   "id": "e16b9ae2-4ebf-4b92-b60e-6d75dcafa0de",
   "metadata": {},
   "outputs": [],
   "source": [
    "import pandas as pd\n",
    "import os\n",
    "import shutil"
   ]
  },
  {
   "cell_type": "code",
   "execution_count": 3,
   "id": "8ca61125-6ddc-4541-85ff-8a6df8a89105",
   "metadata": {},
   "outputs": [],
   "source": [
    "df = pd.read_csv('./data/train_ship_segmentations_v2.csv')"
   ]
  },
  {
   "cell_type": "code",
   "execution_count": 7,
   "id": "54c624cd-695d-4804-8295-df3f1c19bc9e",
   "metadata": {},
   "outputs": [],
   "source": [
    "no_ships = df[df['EncodedPixels'].isna()]"
   ]
  },
  {
   "cell_type": "code",
   "execution_count": 9,
   "id": "6b4c0f39-c596-493e-9cce-0916186d8778",
   "metadata": {},
   "outputs": [
    {
     "data": {
      "text/plain": [
       "Series([], dtype: int64)"
      ]
     },
     "execution_count": 9,
     "metadata": {},
     "output_type": "execute_result"
    }
   ],
   "source": [
    "no_ships.value_counts()"
   ]
  },
  {
   "cell_type": "code",
   "execution_count": 11,
   "id": "ec22b4bf-8128-457e-a035-10fa117d9e61",
   "metadata": {},
   "outputs": [],
   "source": [
    "ships = df.dropna()"
   ]
  },
  {
   "cell_type": "code",
   "execution_count": 12,
   "id": "cbd6ec6a-3c40-4b18-96a7-427564741440",
   "metadata": {},
   "outputs": [],
   "source": [
    "#since some images have multiple rows (see EDA) we need to merge these rows so all ships present in an image appear in the mask\n",
    "ships = ships.groupby('ImageId')[['EncodedPixels']].agg(lambda rle_codes: ' '.join(rle_codes)).reset_index()"
   ]
  },
  {
   "cell_type": "code",
   "execution_count": 17,
   "id": "13f9b31e-bf30-4e82-8086-dc0773dd27d4",
   "metadata": {},
   "outputs": [
    {
     "data": {
      "text/plain": [
       "956e16369.jpg    1\n",
       "e8239e359.jpg    1\n",
       "a76574c60.jpg    1\n",
       "93326c1b5.jpg    1\n",
       "96b719c2c.jpg    1\n",
       "                ..\n",
       "bc772c757.jpg    1\n",
       "d8aef5f22.jpg    1\n",
       "968339501.jpg    1\n",
       "783e42843.jpg    1\n",
       "29794b4a5.jpg    1\n",
       "Name: ImageId, Length: 42556, dtype: int64"
      ]
     },
     "execution_count": 17,
     "metadata": {},
     "output_type": "execute_result"
    }
   ],
   "source": [
    "ships['ImageId'].value_counts()"
   ]
  },
  {
   "cell_type": "code",
   "execution_count": 18,
   "id": "8e5bfe91-5722-447b-8341-80e2f1262852",
   "metadata": {},
   "outputs": [],
   "source": [
    "no_ships = no_ships.sample(1500)\n",
    "ships = ships.sample(1500)"
   ]
  },
  {
   "cell_type": "code",
   "execution_count": 30,
   "id": "e2914f0d-8e67-4964-99c0-027bde94eda4",
   "metadata": {},
   "outputs": [],
   "source": [
    "no_ship_train = no_ships.head(1000)\n",
    "no_ship_test = no_ships.tail(500)\n",
    "ship_train = ships.head(1000)\n",
    "ship_test = ships.tail(500)"
   ]
  },
  {
   "cell_type": "code",
   "execution_count": 22,
   "id": "b435de2b-368d-484e-90c2-cdf6e775548e",
   "metadata": {},
   "outputs": [
    {
     "data": {
      "text/html": [
       "<div>\n",
       "<style scoped>\n",
       "    .dataframe tbody tr th:only-of-type {\n",
       "        vertical-align: middle;\n",
       "    }\n",
       "\n",
       "    .dataframe tbody tr th {\n",
       "        vertical-align: top;\n",
       "    }\n",
       "\n",
       "    .dataframe thead th {\n",
       "        text-align: right;\n",
       "    }\n",
       "</style>\n",
       "<table border=\"1\" class=\"dataframe\">\n",
       "  <thead>\n",
       "    <tr style=\"text-align: right;\">\n",
       "      <th></th>\n",
       "      <th>ImageId</th>\n",
       "      <th>EncodedPixels</th>\n",
       "    </tr>\n",
       "  </thead>\n",
       "  <tbody>\n",
       "    <tr>\n",
       "      <th>35157</th>\n",
       "      <td>26e944bb5.jpg</td>\n",
       "      <td>NaN</td>\n",
       "    </tr>\n",
       "    <tr>\n",
       "      <th>15684</th>\n",
       "      <td>112ff38a1.jpg</td>\n",
       "      <td>NaN</td>\n",
       "    </tr>\n",
       "    <tr>\n",
       "      <th>111775</th>\n",
       "      <td>7b2419f69.jpg</td>\n",
       "      <td>NaN</td>\n",
       "    </tr>\n",
       "    <tr>\n",
       "      <th>163767</th>\n",
       "      <td>b4cba6fc6.jpg</td>\n",
       "      <td>NaN</td>\n",
       "    </tr>\n",
       "    <tr>\n",
       "      <th>148223</th>\n",
       "      <td>a3c05740d.jpg</td>\n",
       "      <td>NaN</td>\n",
       "    </tr>\n",
       "    <tr>\n",
       "      <th>...</th>\n",
       "      <td>...</td>\n",
       "      <td>...</td>\n",
       "    </tr>\n",
       "    <tr>\n",
       "      <th>83294</th>\n",
       "      <td>5c01e5134.jpg</td>\n",
       "      <td>NaN</td>\n",
       "    </tr>\n",
       "    <tr>\n",
       "      <th>34281</th>\n",
       "      <td>25f897c42.jpg</td>\n",
       "      <td>NaN</td>\n",
       "    </tr>\n",
       "    <tr>\n",
       "      <th>138273</th>\n",
       "      <td>98a1228b0.jpg</td>\n",
       "      <td>NaN</td>\n",
       "    </tr>\n",
       "    <tr>\n",
       "      <th>81900</th>\n",
       "      <td>5a6fe3523.jpg</td>\n",
       "      <td>NaN</td>\n",
       "    </tr>\n",
       "    <tr>\n",
       "      <th>79644</th>\n",
       "      <td>57eeb2b99.jpg</td>\n",
       "      <td>NaN</td>\n",
       "    </tr>\n",
       "  </tbody>\n",
       "</table>\n",
       "<p>1000 rows × 2 columns</p>\n",
       "</div>"
      ],
      "text/plain": [
       "              ImageId EncodedPixels\n",
       "35157   26e944bb5.jpg           NaN\n",
       "15684   112ff38a1.jpg           NaN\n",
       "111775  7b2419f69.jpg           NaN\n",
       "163767  b4cba6fc6.jpg           NaN\n",
       "148223  a3c05740d.jpg           NaN\n",
       "...               ...           ...\n",
       "83294   5c01e5134.jpg           NaN\n",
       "34281   25f897c42.jpg           NaN\n",
       "138273  98a1228b0.jpg           NaN\n",
       "81900   5a6fe3523.jpg           NaN\n",
       "79644   57eeb2b99.jpg           NaN\n",
       "\n",
       "[1000 rows x 2 columns]"
      ]
     },
     "execution_count": 22,
     "metadata": {},
     "output_type": "execute_result"
    }
   ],
   "source": [
    "no_ship_train"
   ]
  },
  {
   "cell_type": "markdown",
   "id": "eb24074c-a7e9-4354-bce5-e6d810959cdc",
   "metadata": {},
   "source": [
    "## Copy test/train images from external drive to local drive"
   ]
  },
  {
   "cell_type": "code",
   "execution_count": 27,
   "id": "b78fe49f-1d5b-46bf-bae7-b8364f0b7fd7",
   "metadata": {},
   "outputs": [],
   "source": [
    "orig_path = '/Volumes/easystore/airbus-ship-detection/train_v2/'\n",
    "test_ns_path = './data/ship_no_ship/test/noship/'\n",
    "test_ship_path = './data/ship_no_ship/test/ship/'\n",
    "train_ns_path = './data/ship_no_ship/train/noship/'\n",
    "train_ship_path = './data/ship_no_ship/train/ship/'"
   ]
  },
  {
   "cell_type": "code",
   "execution_count": 28,
   "id": "009cf053-8667-4644-8d42-6f2f00c2c2d1",
   "metadata": {},
   "outputs": [],
   "source": [
    "for i in no_ship_train['ImageId']:\n",
    "    shutil.copyfile(f'{orig_path}{i}', f'{train_ns_path}{i}')"
   ]
  },
  {
   "cell_type": "code",
   "execution_count": 31,
   "id": "c14cb35c-d93a-4c7a-87ea-5ddda4062396",
   "metadata": {},
   "outputs": [],
   "source": [
    "for i in ship_train['ImageId']:\n",
    "    shutil.copyfile(f'{orig_path}{i}', f'{train_ship_path}{i}')"
   ]
  },
  {
   "cell_type": "code",
   "execution_count": 32,
   "id": "36ccc98a-d794-435c-8f04-d66aa68d653a",
   "metadata": {},
   "outputs": [],
   "source": [
    "for i in no_ship_test['ImageId']:\n",
    "    shutil.copyfile(f'{orig_path}{i}', f'{test_ns_path}{i}')"
   ]
  },
  {
   "cell_type": "code",
   "execution_count": 33,
   "id": "14970db8-4683-4409-a95b-6a10877eee01",
   "metadata": {},
   "outputs": [],
   "source": [
    "for i in ship_test['ImageId']:\n",
    "    shutil.copyfile(f'{orig_path}{i}', f'{test_ship_path}{i}')"
   ]
  },
  {
   "cell_type": "code",
   "execution_count": null,
   "id": "21e59acc-bcf8-4698-8eab-80e9c0c740d0",
   "metadata": {},
   "outputs": [],
   "source": []
  }
 ],
 "metadata": {
  "kernelspec": {
   "display_name": "Python 3",
   "language": "python",
   "name": "python3"
  },
  "language_info": {
   "codemirror_mode": {
    "name": "ipython",
    "version": 3
   },
   "file_extension": ".py",
   "mimetype": "text/x-python",
   "name": "python",
   "nbconvert_exporter": "python",
   "pygments_lexer": "ipython3",
   "version": "3.8.8"
  }
 },
 "nbformat": 4,
 "nbformat_minor": 5
}
