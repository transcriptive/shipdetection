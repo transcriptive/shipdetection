{
 "cells": [
  {
   "cell_type": "markdown",
   "id": "21b13e6d-912a-48ae-8d71-f664cffe7c43",
   "metadata": {},
   "source": [
    "# Data preprocessing"
   ]
  },
  {
   "cell_type": "markdown",
   "id": "b2c9977b-085e-4107-9cb3-16ad13921a93",
   "metadata": {},
   "source": [
    "There are a huge amount of image files in the dataset—231723—that are way too many for me to train on. I'm going to create a smaller subset of these files for my initial training purposes."
   ]
  },
  {
   "cell_type": "code",
   "execution_count": 1,
   "id": "548ddd5e-fb46-4298-97ed-52fdb545f7b9",
   "metadata": {},
   "outputs": [],
   "source": [
    "import pandas as pd\n",
    "import os\n",
    "import shutil"
   ]
  },
  {
   "cell_type": "code",
   "execution_count": 3,
   "id": "09051877-dde0-471a-9f38-e7627c24ea80",
   "metadata": {},
   "outputs": [],
   "source": [
    "#since ~ 2/3rds of the photos contain no ships, I'm going to remove those from the dataset\n",
    "df = pd.read_csv('./data/train_ship_segmentations_v2.csv').dropna()"
   ]
  },
  {
   "cell_type": "code",
   "execution_count": 4,
   "id": "46caa0fd-9e9e-48ba-9b8e-4397acc88f70",
   "metadata": {},
   "outputs": [
    {
     "data": {
      "text/plain": [
       "(81723, 2)"
      ]
     },
     "execution_count": 4,
     "metadata": {},
     "output_type": "execute_result"
    }
   ],
   "source": [
    "df.shape"
   ]
  },
  {
   "cell_type": "code",
   "execution_count": 5,
   "id": "d1ca3b07-acbc-461d-a085-9aec53fa87cf",
   "metadata": {},
   "outputs": [
    {
     "data": {
      "text/html": [
       "<div>\n",
       "<style scoped>\n",
       "    .dataframe tbody tr th:only-of-type {\n",
       "        vertical-align: middle;\n",
       "    }\n",
       "\n",
       "    .dataframe tbody tr th {\n",
       "        vertical-align: top;\n",
       "    }\n",
       "\n",
       "    .dataframe thead th {\n",
       "        text-align: right;\n",
       "    }\n",
       "</style>\n",
       "<table border=\"1\" class=\"dataframe\">\n",
       "  <thead>\n",
       "    <tr style=\"text-align: right;\">\n",
       "      <th></th>\n",
       "      <th>ImageId</th>\n",
       "      <th>EncodedPixels</th>\n",
       "    </tr>\n",
       "  </thead>\n",
       "  <tbody>\n",
       "    <tr>\n",
       "      <th>2</th>\n",
       "      <td>000155de5.jpg</td>\n",
       "      <td>264661 17 265429 33 266197 33 266965 33 267733...</td>\n",
       "    </tr>\n",
       "    <tr>\n",
       "      <th>3</th>\n",
       "      <td>000194a2d.jpg</td>\n",
       "      <td>360486 1 361252 4 362019 5 362785 8 363552 10 ...</td>\n",
       "    </tr>\n",
       "    <tr>\n",
       "      <th>4</th>\n",
       "      <td>000194a2d.jpg</td>\n",
       "      <td>51834 9 52602 9 53370 9 54138 9 54906 9 55674 ...</td>\n",
       "    </tr>\n",
       "    <tr>\n",
       "      <th>5</th>\n",
       "      <td>000194a2d.jpg</td>\n",
       "      <td>198320 10 199088 10 199856 10 200624 10 201392...</td>\n",
       "    </tr>\n",
       "    <tr>\n",
       "      <th>6</th>\n",
       "      <td>000194a2d.jpg</td>\n",
       "      <td>55683 1 56451 1 57219 1 57987 1 58755 1 59523 ...</td>\n",
       "    </tr>\n",
       "  </tbody>\n",
       "</table>\n",
       "</div>"
      ],
      "text/plain": [
       "         ImageId                                      EncodedPixels\n",
       "2  000155de5.jpg  264661 17 265429 33 266197 33 266965 33 267733...\n",
       "3  000194a2d.jpg  360486 1 361252 4 362019 5 362785 8 363552 10 ...\n",
       "4  000194a2d.jpg  51834 9 52602 9 53370 9 54138 9 54906 9 55674 ...\n",
       "5  000194a2d.jpg  198320 10 199088 10 199856 10 200624 10 201392...\n",
       "6  000194a2d.jpg  55683 1 56451 1 57219 1 57987 1 58755 1 59523 ..."
      ]
     },
     "execution_count": 5,
     "metadata": {},
     "output_type": "execute_result"
    }
   ],
   "source": [
    "df.head()"
   ]
  },
  {
   "cell_type": "code",
   "execution_count": 6,
   "id": "9d7e778d-20b4-4168-bfb0-b1461905582d",
   "metadata": {},
   "outputs": [],
   "source": [
    "#since some images have multiple rows (see EDA) we need to merge these rows so all ships present in an image appear in the mask\n",
    "df = df.groupby('ImageId')[['EncodedPixels']].agg(lambda rle_codes: ' '.join(rle_codes)).reset_index()"
   ]
  },
  {
   "cell_type": "code",
   "execution_count": 7,
   "id": "1a2f9814-c187-43fb-9b79-24c2eb235078",
   "metadata": {},
   "outputs": [
    {
     "data": {
      "text/plain": [
       "(42556, 2)"
      ]
     },
     "execution_count": 7,
     "metadata": {},
     "output_type": "execute_result"
    }
   ],
   "source": [
    "df.shape"
   ]
  },
  {
   "cell_type": "markdown",
   "id": "edd41715-a36c-45ed-b2d8-6ffe5403ac3c",
   "metadata": {},
   "source": [
    "## Make a sample of 1000 images"
   ]
  },
  {
   "cell_type": "code",
   "execution_count": 8,
   "id": "2415741b-2184-45c0-9048-24c248eaba7e",
   "metadata": {},
   "outputs": [],
   "source": [
    "sample = df.sample(1000)"
   ]
  },
  {
   "cell_type": "code",
   "execution_count": 9,
   "id": "3c980998-f72e-4a53-b0a4-9e5d425da3b1",
   "metadata": {},
   "outputs": [
    {
     "data": {
      "text/plain": [
       "(1000, 2)"
      ]
     },
     "execution_count": 9,
     "metadata": {},
     "output_type": "execute_result"
    }
   ],
   "source": [
    "sample.shape"
   ]
  },
  {
   "cell_type": "code",
   "execution_count": 10,
   "id": "a0680fe2-f970-4e04-a5f8-f0eb1da2b020",
   "metadata": {},
   "outputs": [
    {
     "data": {
      "text/html": [
       "<div>\n",
       "<style scoped>\n",
       "    .dataframe tbody tr th:only-of-type {\n",
       "        vertical-align: middle;\n",
       "    }\n",
       "\n",
       "    .dataframe tbody tr th {\n",
       "        vertical-align: top;\n",
       "    }\n",
       "\n",
       "    .dataframe thead th {\n",
       "        text-align: right;\n",
       "    }\n",
       "</style>\n",
       "<table border=\"1\" class=\"dataframe\">\n",
       "  <thead>\n",
       "    <tr style=\"text-align: right;\">\n",
       "      <th></th>\n",
       "      <th>ImageId</th>\n",
       "      <th>EncodedPixels</th>\n",
       "    </tr>\n",
       "  </thead>\n",
       "  <tbody>\n",
       "    <tr>\n",
       "      <th>8813</th>\n",
       "      <td>35abc052e.jpg</td>\n",
       "      <td>75533 1 76300 3 77066 5 77833 7 78600 9 79367 ...</td>\n",
       "    </tr>\n",
       "    <tr>\n",
       "      <th>15149</th>\n",
       "      <td>5afa11f0c.jpg</td>\n",
       "      <td>137060 1 137826 4 138593 5 139360 7 140126 10 ...</td>\n",
       "    </tr>\n",
       "    <tr>\n",
       "      <th>17700</th>\n",
       "      <td>6a5b250ab.jpg</td>\n",
       "      <td>35813 8 36581 8 37349 8 38117 8 38885 8 39653 ...</td>\n",
       "    </tr>\n",
       "    <tr>\n",
       "      <th>19187</th>\n",
       "      <td>7345fdccd.jpg</td>\n",
       "      <td>317977 1 318744 4 319512 5 320279 8 321047 9 3...</td>\n",
       "    </tr>\n",
       "    <tr>\n",
       "      <th>6090</th>\n",
       "      <td>24b20063a.jpg</td>\n",
       "      <td>445483 2 446249 4 447015 7 447781 9 448547 12 ...</td>\n",
       "    </tr>\n",
       "  </tbody>\n",
       "</table>\n",
       "</div>"
      ],
      "text/plain": [
       "             ImageId                                      EncodedPixels\n",
       "8813   35abc052e.jpg  75533 1 76300 3 77066 5 77833 7 78600 9 79367 ...\n",
       "15149  5afa11f0c.jpg  137060 1 137826 4 138593 5 139360 7 140126 10 ...\n",
       "17700  6a5b250ab.jpg  35813 8 36581 8 37349 8 38117 8 38885 8 39653 ...\n",
       "19187  7345fdccd.jpg  317977 1 318744 4 319512 5 320279 8 321047 9 3...\n",
       "6090   24b20063a.jpg  445483 2 446249 4 447015 7 447781 9 448547 12 ..."
      ]
     },
     "execution_count": 10,
     "metadata": {},
     "output_type": "execute_result"
    }
   ],
   "source": [
    "sample.head()"
   ]
  },
  {
   "cell_type": "markdown",
   "id": "130fe075-d39e-4076-aa0b-0ada5ed7165a",
   "metadata": {},
   "source": [
    "Export the sample dataframe"
   ]
  },
  {
   "cell_type": "code",
   "execution_count": 11,
   "id": "3c04137f-b614-4cd5-816d-3c4ee8772de2",
   "metadata": {},
   "outputs": [],
   "source": [
    "sample.to_csv('./data/train_small/segmentations.csv')"
   ]
  },
  {
   "cell_type": "markdown",
   "id": "aa785496-b6df-4f0f-910a-f7fde289e150",
   "metadata": {},
   "source": [
    "### Move the sample images to their own folder"
   ]
  },
  {
   "cell_type": "code",
   "execution_count": 17,
   "id": "b844f25a-2a1a-4c2f-b22e-0ed28fce3240",
   "metadata": {},
   "outputs": [],
   "source": [
    "orig_path = './data/train_v2/'\n",
    "new_path = './data/train_small/images/'"
   ]
  },
  {
   "cell_type": "code",
   "execution_count": 18,
   "id": "f1ff4151-22f9-4d0b-9d06-886ecff2ca9b",
   "metadata": {},
   "outputs": [],
   "source": [
    "for i in sample['ImageId']:\n",
    "    shutil.copyfile(f'{orig_path}{i}', f'{new_path}{i}')"
   ]
  },
  {
   "cell_type": "code",
   "execution_count": null,
   "id": "28b9518f-3713-4a35-b79a-93a679cbd0fd",
   "metadata": {},
   "outputs": [],
   "source": []
  }
 ],
 "metadata": {
  "kernelspec": {
   "display_name": "Python 3",
   "language": "python",
   "name": "python3"
  },
  "language_info": {
   "codemirror_mode": {
    "name": "ipython",
    "version": 3
   },
   "file_extension": ".py",
   "mimetype": "text/x-python",
   "name": "python",
   "nbconvert_exporter": "python",
   "pygments_lexer": "ipython3",
   "version": "3.8.8"
  }
 },
 "nbformat": 4,
 "nbformat_minor": 5
}
