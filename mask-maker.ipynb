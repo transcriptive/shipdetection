{
 "cells": [
  {
   "cell_type": "markdown",
   "id": "22dba92a-0bd9-4b37-8c40-844acbba0131",
   "metadata": {},
   "source": [
    "# Mask maker"
   ]
  },
  {
   "cell_type": "code",
   "execution_count": 1,
   "id": "fe6f6006-91a9-4c57-9417-dfa7ca80d0f2",
   "metadata": {},
   "outputs": [],
   "source": [
    "import pandas as pd"
   ]
  },
  {
   "cell_type": "code",
   "execution_count": 2,
   "id": "4ce88ed1-7c8d-49b9-94c1-3cf80e0dff8a",
   "metadata": {},
   "outputs": [],
   "source": [
    "df = pd.read_csv('./data/train_small/segmentations.csv')"
   ]
  },
  {
   "cell_type": "code",
   "execution_count": null,
   "id": "87ed8222-8c08-43ae-96ff-a740aff1f4c8",
   "metadata": {},
   "outputs": [],
   "source": []
  }
 ],
 "metadata": {
  "kernelspec": {
   "display_name": "Python 3",
   "language": "python",
   "name": "python3"
  },
  "language_info": {
   "codemirror_mode": {
    "name": "ipython",
    "version": 3
   },
   "file_extension": ".py",
   "mimetype": "text/x-python",
   "name": "python",
   "nbconvert_exporter": "python",
   "pygments_lexer": "ipython3",
   "version": "3.8.8"
  }
 },
 "nbformat": 4,
 "nbformat_minor": 5
}
